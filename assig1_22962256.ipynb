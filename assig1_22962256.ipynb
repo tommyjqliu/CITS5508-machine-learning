{
 "cells": [
  {
   "cell_type": "markdown",
   "metadata": {},
   "source": [
    "# Constant Definition"
   ]
  },
  {
   "cell_type": "code",
   "execution_count": 61,
   "metadata": {},
   "outputs": [],
   "source": [
    "DATASET_PATH = \"./dataset/\"\n",
    "RANDOM_SEED = 5508"
   ]
  },
  {
   "cell_type": "markdown",
   "metadata": {},
   "source": [
    "# Dataset Import and Preprocess\n",
    "In this section, we import data and preprocess them. First, we create a filter from labels dataframe. Then, we filter row in features and labels, and make a copy of then. Finally, we convert label to binary, 1 for Sandal and 0 for Sneaker."
   ]
  },
  {
   "cell_type": "code",
   "execution_count": 185,
   "metadata": {},
   "outputs": [
    {
     "data": {
      "text/html": [
       "<div>\n",
       "<style scoped>\n",
       "    .dataframe tbody tr th:only-of-type {\n",
       "        vertical-align: middle;\n",
       "    }\n",
       "\n",
       "    .dataframe tbody tr th {\n",
       "        vertical-align: top;\n",
       "    }\n",
       "\n",
       "    .dataframe thead th {\n",
       "        text-align: right;\n",
       "    }\n",
       "</style>\n",
       "<table border=\"1\" class=\"dataframe\">\n",
       "  <thead>\n",
       "    <tr style=\"text-align: right;\">\n",
       "      <th></th>\n",
       "      <th>label</th>\n",
       "      <th>0</th>\n",
       "      <th>1</th>\n",
       "      <th>2</th>\n",
       "      <th>3</th>\n",
       "      <th>4</th>\n",
       "      <th>5</th>\n",
       "      <th>6</th>\n",
       "      <th>7</th>\n",
       "      <th>8</th>\n",
       "      <th>...</th>\n",
       "      <th>14</th>\n",
       "      <th>15</th>\n",
       "      <th>16</th>\n",
       "      <th>17</th>\n",
       "      <th>18</th>\n",
       "      <th>19</th>\n",
       "      <th>20</th>\n",
       "      <th>21</th>\n",
       "      <th>22</th>\n",
       "      <th>23</th>\n",
       "    </tr>\n",
       "  </thead>\n",
       "  <tbody>\n",
       "    <tr>\n",
       "      <th>12</th>\n",
       "      <td>1</td>\n",
       "      <td>0</td>\n",
       "      <td>0</td>\n",
       "      <td>0</td>\n",
       "      <td>0</td>\n",
       "      <td>0</td>\n",
       "      <td>0</td>\n",
       "      <td>0</td>\n",
       "      <td>0</td>\n",
       "      <td>0</td>\n",
       "      <td>...</td>\n",
       "      <td>0</td>\n",
       "      <td>0</td>\n",
       "      <td>0</td>\n",
       "      <td>0</td>\n",
       "      <td>0</td>\n",
       "      <td>0</td>\n",
       "      <td>0</td>\n",
       "      <td>0</td>\n",
       "      <td>0</td>\n",
       "      <td>0</td>\n",
       "    </tr>\n",
       "    <tr>\n",
       "      <th>30</th>\n",
       "      <td>1</td>\n",
       "      <td>0</td>\n",
       "      <td>0</td>\n",
       "      <td>0</td>\n",
       "      <td>0</td>\n",
       "      <td>0</td>\n",
       "      <td>0</td>\n",
       "      <td>0</td>\n",
       "      <td>0</td>\n",
       "      <td>0</td>\n",
       "      <td>...</td>\n",
       "      <td>0</td>\n",
       "      <td>0</td>\n",
       "      <td>0</td>\n",
       "      <td>0</td>\n",
       "      <td>0</td>\n",
       "      <td>0</td>\n",
       "      <td>0</td>\n",
       "      <td>0</td>\n",
       "      <td>0</td>\n",
       "      <td>0</td>\n",
       "    </tr>\n",
       "    <tr>\n",
       "      <th>36</th>\n",
       "      <td>1</td>\n",
       "      <td>0</td>\n",
       "      <td>0</td>\n",
       "      <td>0</td>\n",
       "      <td>0</td>\n",
       "      <td>0</td>\n",
       "      <td>0</td>\n",
       "      <td>0</td>\n",
       "      <td>0</td>\n",
       "      <td>0</td>\n",
       "      <td>...</td>\n",
       "      <td>0</td>\n",
       "      <td>0</td>\n",
       "      <td>0</td>\n",
       "      <td>0</td>\n",
       "      <td>0</td>\n",
       "      <td>53</td>\n",
       "      <td>102</td>\n",
       "      <td>144</td>\n",
       "      <td>169</td>\n",
       "      <td>149</td>\n",
       "    </tr>\n",
       "    <tr>\n",
       "      <th>41</th>\n",
       "      <td>0</td>\n",
       "      <td>0</td>\n",
       "      <td>0</td>\n",
       "      <td>0</td>\n",
       "      <td>0</td>\n",
       "      <td>0</td>\n",
       "      <td>0</td>\n",
       "      <td>0</td>\n",
       "      <td>0</td>\n",
       "      <td>0</td>\n",
       "      <td>...</td>\n",
       "      <td>0</td>\n",
       "      <td>0</td>\n",
       "      <td>0</td>\n",
       "      <td>0</td>\n",
       "      <td>0</td>\n",
       "      <td>0</td>\n",
       "      <td>0</td>\n",
       "      <td>0</td>\n",
       "      <td>0</td>\n",
       "      <td>0</td>\n",
       "    </tr>\n",
       "    <tr>\n",
       "      <th>43</th>\n",
       "      <td>1</td>\n",
       "      <td>0</td>\n",
       "      <td>0</td>\n",
       "      <td>0</td>\n",
       "      <td>0</td>\n",
       "      <td>0</td>\n",
       "      <td>0</td>\n",
       "      <td>0</td>\n",
       "      <td>0</td>\n",
       "      <td>0</td>\n",
       "      <td>...</td>\n",
       "      <td>0</td>\n",
       "      <td>0</td>\n",
       "      <td>0</td>\n",
       "      <td>0</td>\n",
       "      <td>0</td>\n",
       "      <td>0</td>\n",
       "      <td>0</td>\n",
       "      <td>0</td>\n",
       "      <td>0</td>\n",
       "      <td>0</td>\n",
       "    </tr>\n",
       "  </tbody>\n",
       "</table>\n",
       "<p>5 rows × 25 columns</p>\n",
       "</div>"
      ],
      "text/plain": [
       "    label  0  1  2  3  4  5  6  7  8  ...  14  15  16  17  18  19   20   21  \\\n",
       "12      1  0  0  0  0  0  0  0  0  0  ...   0   0   0   0   0   0    0    0   \n",
       "30      1  0  0  0  0  0  0  0  0  0  ...   0   0   0   0   0   0    0    0   \n",
       "36      1  0  0  0  0  0  0  0  0  0  ...   0   0   0   0   0  53  102  144   \n",
       "41      0  0  0  0  0  0  0  0  0  0  ...   0   0   0   0   0   0    0    0   \n",
       "43      1  0  0  0  0  0  0  0  0  0  ...   0   0   0   0   0   0    0    0   \n",
       "\n",
       "     22   23  \n",
       "12    0    0  \n",
       "30    0    0  \n",
       "36  169  149  \n",
       "41    0    0  \n",
       "43    0    0  \n",
       "\n",
       "[5 rows x 25 columns]"
      ]
     },
     "execution_count": 185,
     "metadata": {},
     "output_type": "execute_result"
    }
   ],
   "source": [
    "import pandas as pd\n",
    "\n",
    "\n",
    "def readCSV(filename: str):\n",
    "    return pd.read_csv(DATASET_PATH + filename, header=None)\n",
    "\n",
    "\n",
    "origin_train_set = readCSV(\"FMNIST_training_set.csv\")\n",
    "origin_train_set_labels = readCSV(\"FMNIST_training_set_labels.csv\")\n",
    "origin_test_set = readCSV(\"FMNIST_test_set.csv\")\n",
    "origin_test_set_labels = readCSV(\"FMNIST_test_set_labels.csv\")\n",
    "\n",
    "\n",
    "def preprocess_data(features: pd.DataFrame, labels: pd.DataFrame):\n",
    "    filter = labels.iloc[:, 0].isin([5, 7])\n",
    "    filtered_features = features[filter].copy()\n",
    "    filtered_labels = labels[filter].copy()\n",
    "    filtered_labels[filtered_labels == 5] = 1 # Sandal\n",
    "    filtered_labels[filtered_labels == 7] = 0 # Sneaker\n",
    "    return filtered_features, filtered_labels\n",
    "\n",
    "\n",
    "train_X, train_y = preprocess_data(origin_train_set, origin_train_set_labels)\n",
    "test_X, test_y = preprocess_data(origin_test_set, origin_test_set_labels)\n",
    "# check first 5 rows of the training set\n",
    "train_y_copy = train_y.copy().rename(columns={0: \"label\"})\n",
    "pd.concat([train_y_copy, train_X ], axis=1).iloc[:5,:25]"
   ]
  },
  {
   "cell_type": "code",
   "execution_count": 218,
   "metadata": {},
   "outputs": [
    {
     "data": {
      "text/plain": [
       "0    1\n",
       "Name: 8, dtype: int64"
      ]
     },
     "execution_count": 218,
     "metadata": {},
     "output_type": "execute_result"
    }
   ],
   "source": [
    "origin_train_set_labels .iloc[8]"
   ]
  },
  {
   "cell_type": "markdown",
   "metadata": {},
   "source": [
    "# Summarising the datasets\n",
    "## D1 [3 marks]: List number of instances\n",
    "We use shape attribute to get the number of instances in the dataset. The shape attribute shows the number of rows and columns, which the first number is the number of rows."
   ]
  },
  {
   "cell_type": "code",
   "execution_count": 189,
   "metadata": {},
   "outputs": [
    {
     "data": {
      "text/html": [
       "<div>\n",
       "<style scoped>\n",
       "    .dataframe tbody tr th:only-of-type {\n",
       "        vertical-align: middle;\n",
       "    }\n",
       "\n",
       "    .dataframe tbody tr th {\n",
       "        vertical-align: top;\n",
       "    }\n",
       "\n",
       "    .dataframe thead th {\n",
       "        text-align: right;\n",
       "    }\n",
       "</style>\n",
       "<table border=\"1\" class=\"dataframe\">\n",
       "  <thead>\n",
       "    <tr style=\"text-align: right;\">\n",
       "      <th></th>\n",
       "      <th>Number of instances</th>\n",
       "    </tr>\n",
       "  </thead>\n",
       "  <tbody>\n",
       "    <tr>\n",
       "      <th>Train set</th>\n",
       "      <td>11988</td>\n",
       "    </tr>\n",
       "    <tr>\n",
       "      <th>Test set</th>\n",
       "      <td>2000</td>\n",
       "    </tr>\n",
       "    <tr>\n",
       "      <th>Total</th>\n",
       "      <td>13988</td>\n",
       "    </tr>\n",
       "  </tbody>\n",
       "</table>\n",
       "</div>"
      ],
      "text/plain": [
       "           Number of instances\n",
       "Train set                11988\n",
       "Test set                  2000\n",
       "Total                    13988"
      ]
     },
     "execution_count": 189,
     "metadata": {},
     "output_type": "execute_result"
    }
   ],
   "source": [
    "pd.DataFrame(\n",
    "    {\n",
    "        \"Number of instances\": [\n",
    "            train_X.shape[0],\n",
    "            test_X.shape[0],\n",
    "            train_X.shape[0] + test_X.shape[0],\n",
    "        ]\n",
    "    },\n",
    "    index=[\"Train set\", \"Test set\", \"Total\"],\n",
    ")"
   ]
  },
  {
   "cell_type": "markdown",
   "metadata": {},
   "source": [
    "## D2 [2 marks]: Provide a bar plot showing the number of instances for each class label. Do you have an imbalanced training set?\n",
    "\n",
    "We can see from the plot that, the numbers of two classed are balanced. So, we don't have an imbalanced training set."
   ]
  },
  {
   "cell_type": "code",
   "execution_count": 193,
   "metadata": {},
   "outputs": [
    {
     "data": {
      "text/plain": [
       "<Axes: title={'center': 'Number of instances for eash class'}, xlabel='Categories'>"
      ]
     },
     "execution_count": 193,
     "metadata": {},
     "output_type": "execute_result"
    },
    {
     "data": {
      "image/png": "[encoded data removed]",
      "text/plain": [
       "<Figure size 300x300 with 1 Axes>"
      ]
     },
     "metadata": {},
     "output_type": "display_data"
    }
   ],
   "source": [
    "pd.DataFrame(\n",
    "    {\n",
    "        \"Categories\": [\"Sandals\", \"Sneakers\"],\n",
    "        \"Number\": [\n",
    "            train_y[train_y == 1].shape[0],\n",
    "            train_y[train_y == 0].shape[0],\n",
    "        ],\n",
    "    }\n",
    ").plot(\n",
    "    x=\"Categories\",\n",
    "    y=\"Number\",\n",
    "    kind=\"bar\",\n",
    "    legend=False,\n",
    "    title=\"Number of instances for eash class\",\n",
    "    figsize=(3, 3),\n",
    ")"
   ]
  },
  {
   "cell_type": "markdown",
   "metadata": {},
   "source": [
    "## D3 [3 marks]: Plot the first six images/examples from each class with the corresponding example id and associated label on the top of the plot.\n",
    "First, we find the first six images of each class. Then we arrange the images so they can show in either left side or right side. Finally, we plot the images, where 1 is Sandal and 0 is Sneaker.\n"
   ]
  },
  {
   "cell_type": "code",
   "execution_count": 230,
   "metadata": {},
   "outputs": [],
   "source": [
    "IMAGE_SHAPE = (28, 28)\n",
    "\n",
    "sandals = []\n",
    "for index, row in train_X[train_y.iloc[:, 0] == 1].iloc[:6].iterrows():\n",
    "    sandals.append(\n",
    "        {\n",
    "            \"index\": index,\n",
    "            \"image\": row.values.reshape(IMAGE_SHAPE),\n",
    "            \"label\": 1,\n",
    "        }\n",
    "    )\n",
    "\n",
    "sneakers = []\n",
    "for index, row in train_X[train_y.iloc[:, 0] == 0].iloc[:6].iterrows():\n",
    "    sneakers.append(\n",
    "        {\n",
    "            \"index\": index,\n",
    "            \"image\": row.values.reshape(IMAGE_SHAPE),\n",
    "            \"label\": 0,\n",
    "        }\n",
    "    )\n",
    "\n",
    "images = []\n",
    "for i in range(0, 12):\n",
    "    if i % 4 < 2:\n",
    "        images.append(sandals.pop(0))\n",
    "    else:\n",
    "        images.append(sneakers.pop(0))"
   ]
  },
  {
   "cell_type": "code",
   "execution_count": 231,
   "metadata": {},
   "outputs": [
    {
     "data": {
      "image/png": "[encoded data removed]",
      "text/plain": [
       "<Figure size 1200x900 with 12 Axes>"
      ]
     },
     "metadata": {},
     "output_type": "display_data"
    }
   ],
   "source": [
    "from matplotlib import pyplot as plt\n",
    "\n",
    "fig, axes = plt.subplots(nrows=3, ncols=4, figsize=(12, 9))\n",
    "\n",
    "axes = axes.flatten()\n",
    "\n",
    "for i, image in enumerate(images):\n",
    "    ax = axes[i]\n",
    "    ax.imshow(image['image'], cmap='gray') \n",
    "    ax.set_title(f'example {image['index']} y={image['label']}')\n",
    "    ax.axis('off')  # Turn off axis labels\n",
    " "
   ]
  },
  {
   "cell_type": "markdown",
   "metadata": {},
   "source": [
    "# Fitting your logistic regression classifier"
   ]
  },
  {
   "cell_type": "code",
   "execution_count": 233,
   "metadata": {},
   "outputs": [],
   "source": [
    "import numpy as np\n",
    "\n",
    "\n",
    "train_X_b = np.c_[train_X, np.ones((train_X.shape[0], 1))]\n",
    "theta = np.zeros((train_X_b.shape[1], 1))"
   ]
  },
  {
   "cell_type": "code",
   "execution_count": 234,
   "metadata": {},
   "outputs": [
    {
     "data": {
      "text/plain": [
       "array([[0.],\n",
       "       [0.],\n",
       "       [0.],\n",
       "       ...,\n",
       "       [0.],\n",
       "       [0.],\n",
       "       [0.]])"
      ]
     },
     "execution_count": 234,
     "metadata": {},
     "output_type": "execute_result"
    }
   ],
   "source": [
    "train_X_b @ theta"
   ]
  }
 ],
 "metadata": {
  "authors": [
   {
    "name": "Tommy Liu"
   },
   {
    "name": "22962256"
   }
  ],
  "kernelspec": {
   "display_name": "Python 3 (ipykernel)",
   "language": "python",
   "name": "python3"
  },
  "language_info": {
   "codemirror_mode": {
    "name": "ipython",
    "version": 3
   },
   "file_extension": ".py",
   "mimetype": "text/x-python",
   "name": "python",
   "nbconvert_exporter": "python",
   "pygments_lexer": "ipython3",
   "version": "3.12.2"
  },
  "title": "Assignment1 - Classifying Sneakers versus Sandals"
 },
 "nbformat": 4,
 "nbformat_minor": 4
}
