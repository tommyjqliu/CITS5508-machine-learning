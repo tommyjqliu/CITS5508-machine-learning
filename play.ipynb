{
 "cells": [
  {
   "cell_type": "code",
   "execution_count": 3,
   "metadata": {},
   "outputs": [
    {
     "name": "stdout",
     "output_type": "stream",
     "text": [
      "(1, 2) {}\n"
     ]
    },
    {
     "data": {
      "text/plain": [
       "<__main__.B at 0x7fd7fa701d30>"
      ]
     },
     "execution_count": 3,
     "metadata": {},
     "output_type": "execute_result"
    }
   ],
   "source": [
    "class A:\n",
    "    def __init__(self, a, b, c=10):\n",
    "        self.a = a\n",
    "        self.b = b\n",
    "        self.c = c\n",
    "\n",
    "\n",
    "class B(A):\n",
    "    def __init__(self, *args, d, **kwargs):\n",
    "        print(args, kwargs)\n",
    "        super().__init__(*args, **kwargs)\n",
    "        self.d = d\n",
    "\n",
    "\n",
    "b = B(1, 2, d = 3)\n",
    "\n",
    "\n",
    "b"
   ]
  },
  {
   "cell_type": "code",
   "execution_count": 13,
   "metadata": {},
   "outputs": [],
   "source": [
    "from sklearn.datasets import fetch_openml\n",
    "\n",
    "mnist = fetch_openml('mnist_784', as_frame=False)\n",
    "\n",
    "X, y = mnist.data, mnist.target"
   ]
  },
  {
   "cell_type": "code",
   "execution_count": 22,
   "metadata": {},
   "outputs": [],
   "source": [
    "X_train, X_test, y_train, y_test = X[:10000], X[10000:], y[:10000], y[10000:]"
   ]
  },
  {
   "cell_type": "code",
   "execution_count": 24,
   "metadata": {},
   "outputs": [],
   "source": [
    "y_train = y_train == '5'"
   ]
  },
  {
   "cell_type": "code",
   "execution_count": 25,
   "metadata": {},
   "outputs": [
    {
     "name": "stderr",
     "output_type": "stream",
     "text": [
      "/home/tommy/miniconda3/envs/cits5508/lib/python3.12/site-packages/sklearn/linear_model/_logistic.py:469: ConvergenceWarning: lbfgs failed to converge (status=1):\n",
      "STOP: TOTAL NO. of ITERATIONS REACHED LIMIT.\n",
      "\n",
      "Increase the number of iterations (max_iter) or scale the data as shown in:\n",
      "    https://scikit-learn.org/stable/modules/preprocessing.html\n",
      "Please also refer to the documentation for alternative solver options:\n",
      "    https://scikit-learn.org/stable/modules/linear_model.html#logistic-regression\n",
      "  n_iter_i = _check_optimize_result(\n",
      "/home/tommy/miniconda3/envs/cits5508/lib/python3.12/site-packages/sklearn/linear_model/_logistic.py:469: ConvergenceWarning: lbfgs failed to converge (status=1):\n",
      "STOP: TOTAL NO. of ITERATIONS REACHED LIMIT.\n",
      "\n",
      "Increase the number of iterations (max_iter) or scale the data as shown in:\n",
      "    https://scikit-learn.org/stable/modules/preprocessing.html\n",
      "Please also refer to the documentation for alternative solver options:\n",
      "    https://scikit-learn.org/stable/modules/linear_model.html#logistic-regression\n",
      "  n_iter_i = _check_optimize_result(\n",
      "/home/tommy/miniconda3/envs/cits5508/lib/python3.12/site-packages/sklearn/linear_model/_logistic.py:469: ConvergenceWarning: lbfgs failed to converge (status=1):\n",
      "STOP: TOTAL NO. of ITERATIONS REACHED LIMIT.\n",
      "\n",
      "Increase the number of iterations (max_iter) or scale the data as shown in:\n",
      "    https://scikit-learn.org/stable/modules/preprocessing.html\n",
      "Please also refer to the documentation for alternative solver options:\n",
      "    https://scikit-learn.org/stable/modules/linear_model.html#logistic-regression\n",
      "  n_iter_i = _check_optimize_result(\n",
      "/home/tommy/miniconda3/envs/cits5508/lib/python3.12/site-packages/sklearn/linear_model/_logistic.py:469: ConvergenceWarning: lbfgs failed to converge (status=1):\n",
      "STOP: TOTAL NO. of ITERATIONS REACHED LIMIT.\n",
      "\n",
      "Increase the number of iterations (max_iter) or scale the data as shown in:\n",
      "    https://scikit-learn.org/stable/modules/preprocessing.html\n",
      "Please also refer to the documentation for alternative solver options:\n",
      "    https://scikit-learn.org/stable/modules/linear_model.html#logistic-regression\n",
      "  n_iter_i = _check_optimize_result(\n",
      "/home/tommy/miniconda3/envs/cits5508/lib/python3.12/site-packages/sklearn/linear_model/_logistic.py:469: ConvergenceWarning: lbfgs failed to converge (status=1):\n",
      "STOP: TOTAL NO. of ITERATIONS REACHED LIMIT.\n",
      "\n",
      "Increase the number of iterations (max_iter) or scale the data as shown in:\n",
      "    https://scikit-learn.org/stable/modules/preprocessing.html\n",
      "Please also refer to the documentation for alternative solver options:\n",
      "    https://scikit-learn.org/stable/modules/linear_model.html#logistic-regression\n",
      "  n_iter_i = _check_optimize_result(\n",
      "/home/tommy/miniconda3/envs/cits5508/lib/python3.12/site-packages/sklearn/linear_model/_logistic.py:469: ConvergenceWarning: lbfgs failed to converge (status=1):\n",
      "STOP: TOTAL NO. of ITERATIONS REACHED LIMIT.\n",
      "\n",
      "Increase the number of iterations (max_iter) or scale the data as shown in:\n",
      "    https://scikit-learn.org/stable/modules/preprocessing.html\n",
      "Please also refer to the documentation for alternative solver options:\n",
      "    https://scikit-learn.org/stable/modules/linear_model.html#logistic-regression\n",
      "  n_iter_i = _check_optimize_result(\n",
      "/home/tommy/miniconda3/envs/cits5508/lib/python3.12/site-packages/sklearn/linear_model/_logistic.py:469: ConvergenceWarning: lbfgs failed to converge (status=1):\n",
      "STOP: TOTAL NO. of ITERATIONS REACHED LIMIT.\n",
      "\n",
      "Increase the number of iterations (max_iter) or scale the data as shown in:\n",
      "    https://scikit-learn.org/stable/modules/preprocessing.html\n",
      "Please also refer to the documentation for alternative solver options:\n",
      "    https://scikit-learn.org/stable/modules/linear_model.html#logistic-regression\n",
      "  n_iter_i = _check_optimize_result(\n",
      "/home/tommy/miniconda3/envs/cits5508/lib/python3.12/site-packages/sklearn/linear_model/_logistic.py:469: ConvergenceWarning: lbfgs failed to converge (status=1):\n",
      "STOP: TOTAL NO. of ITERATIONS REACHED LIMIT.\n",
      "\n",
      "Increase the number of iterations (max_iter) or scale the data as shown in:\n",
      "    https://scikit-learn.org/stable/modules/preprocessing.html\n",
      "Please also refer to the documentation for alternative solver options:\n",
      "    https://scikit-learn.org/stable/modules/linear_model.html#logistic-regression\n",
      "  n_iter_i = _check_optimize_result(\n",
      "/home/tommy/miniconda3/envs/cits5508/lib/python3.12/site-packages/sklearn/linear_model/_logistic.py:469: ConvergenceWarning: lbfgs failed to converge (status=1):\n",
      "STOP: TOTAL NO. of ITERATIONS REACHED LIMIT.\n",
      "\n",
      "Increase the number of iterations (max_iter) or scale the data as shown in:\n",
      "    https://scikit-learn.org/stable/modules/preprocessing.html\n",
      "Please also refer to the documentation for alternative solver options:\n",
      "    https://scikit-learn.org/stable/modules/linear_model.html#logistic-regression\n",
      "  n_iter_i = _check_optimize_result(\n",
      "/home/tommy/miniconda3/envs/cits5508/lib/python3.12/site-packages/sklearn/linear_model/_logistic.py:469: ConvergenceWarning: lbfgs failed to converge (status=1):\n",
      "STOP: TOTAL NO. of ITERATIONS REACHED LIMIT.\n",
      "\n",
      "Increase the number of iterations (max_iter) or scale the data as shown in:\n",
      "    https://scikit-learn.org/stable/modules/preprocessing.html\n",
      "Please also refer to the documentation for alternative solver options:\n",
      "    https://scikit-learn.org/stable/modules/linear_model.html#logistic-regression\n",
      "  n_iter_i = _check_optimize_result(\n",
      "/home/tommy/miniconda3/envs/cits5508/lib/python3.12/site-packages/sklearn/linear_model/_logistic.py:469: ConvergenceWarning: lbfgs failed to converge (status=1):\n",
      "STOP: TOTAL NO. of ITERATIONS REACHED LIMIT.\n",
      "\n",
      "Increase the number of iterations (max_iter) or scale the data as shown in:\n",
      "    https://scikit-learn.org/stable/modules/preprocessing.html\n",
      "Please also refer to the documentation for alternative solver options:\n",
      "    https://scikit-learn.org/stable/modules/linear_model.html#logistic-regression\n",
      "  n_iter_i = _check_optimize_result(\n"
     ]
    },
    {
     "data": {
      "text/plain": [
       "array([4.52035366e-06])"
      ]
     },
     "execution_count": 25,
     "metadata": {},
     "output_type": "execute_result"
    }
   ],
   "source": [
    "import numpy as np\n",
    "from sklearn.linear_model import LogisticRegressionCV\n",
    "from sklearn.metrics import log_loss\n",
    "from sklearn.preprocessing import StandardScaler\n",
    "\n",
    "C_range = np.logspace(-10, 5, 30)\n",
    "\n",
    "clf = LogisticRegressionCV(\n",
    "    cv=10,\n",
    "    Cs=C_range,\n",
    "    scoring=\"neg_log_loss\",\n",
    "    # max_iter=10000,\n",
    ")\n",
    "\n",
    "clf.fit(X_train, y_train)\n",
    "clf.C_"
   ]
  },
  {
   "cell_type": "code",
   "execution_count": 28,
   "metadata": {},
   "outputs": [
    {
     "data": {
      "text/plain": [
       "{True: array([[-0.29375013, -0.28981345, -0.2783423 , -0.25130076, -0.20836723,\n",
       "         -0.16528741, -0.1341956 , -0.11559668, -0.10581799, -0.10285943,\n",
       "         -0.10822622, -0.12295349, -0.14649815, -0.18540272, -0.23592243,\n",
       "         -0.25225126, -0.29549774, -0.30456715, -0.32200457, -0.32749415,\n",
       "         -0.34268547, -0.34671662, -0.3656539 , -0.3679044 , -0.38525619,\n",
       "         -0.3877924 , -0.40344587, -0.4054438 , -0.42230889, -0.42444616],\n",
       "        [-0.29360466, -0.28934324, -0.27688317, -0.24732989, -0.20067855,\n",
       "         -0.155475  , -0.12325487, -0.10346671, -0.09287413, -0.08987557,\n",
       "         -0.09323986, -0.10240038, -0.1212257 , -0.15519427, -0.21236825,\n",
       "         -0.23765863, -0.25501348, -0.27257687, -0.28381482, -0.29010105,\n",
       "         -0.30600486, -0.30488547, -0.32067814, -0.31970988, -0.33072377,\n",
       "         -0.33133617, -0.34329816, -0.34270516, -0.35434851, -0.35493232],\n",
       "        [-0.29347508, -0.28893156, -0.27566832, -0.24434431, -0.19490755,\n",
       "         -0.14546696, -0.10830946, -0.08465407, -0.07177386, -0.06746113,\n",
       "         -0.07012868, -0.08203787, -0.10410199, -0.13125986, -0.17604987,\n",
       "         -0.20679681, -0.22442062, -0.23226389, -0.24330991, -0.25558213,\n",
       "         -0.2642798 , -0.2746297 , -0.28314885, -0.28667738, -0.29353181,\n",
       "         -0.3037801 , -0.30727326, -0.31798779, -0.32251297, -0.32676542],\n",
       "        [-0.29111874, -0.2865788 , -0.27328432, -0.24164506, -0.19145377,\n",
       "         -0.14203363, -0.10561154, -0.08271015, -0.07051814, -0.06604862,\n",
       "         -0.06893822, -0.07749616, -0.09275746, -0.1205771 , -0.16473817,\n",
       "         -0.18634486, -0.21208452, -0.22273246, -0.24062208, -0.24557644,\n",
       "         -0.2586957 , -0.2597545 , -0.272163  , -0.27388668, -0.29850903,\n",
       "         -0.29561047, -0.31521204, -0.31345588, -0.32500554, -0.32487252],\n",
       "        [-0.29112644, -0.28661232, -0.27346556, -0.24262488, -0.19485702,\n",
       "         -0.14881512, -0.11563712, -0.0948175 , -0.08283596, -0.0782824 ,\n",
       "         -0.08205459, -0.09569691, -0.12440186, -0.17089117, -0.22707362,\n",
       "         -0.29457838, -0.29440105, -0.32723433, -0.33894333, -0.35079066,\n",
       "         -0.38326259, -0.39320796, -0.40597269, -0.41449176, -0.42147393,\n",
       "         -0.43566155, -0.43679127, -0.4522292 , -0.45667396, -0.4745292 ],\n",
       "        [-0.29137242, -0.28738294, -0.27562965, -0.24703412, -0.19939193,\n",
       "         -0.15114797, -0.11719171, -0.09762378, -0.08765768, -0.08427278,\n",
       "         -0.08476437, -0.09092018, -0.10412269, -0.12572959, -0.1505033 ,\n",
       "         -0.1668934 , -0.17642575, -0.18638997, -0.19264968, -0.19762606,\n",
       "         -0.20824946, -0.21191136, -0.23044613, -0.2333931 , -0.24039306,\n",
       "         -0.24739183, -0.24903488, -0.26291743, -0.26327501, -0.28421418],\n",
       "        [-0.29119163, -0.28681116, -0.27397527, -0.24335514, -0.19475828,\n",
       "         -0.14834038, -0.11603951, -0.09550767, -0.08315497, -0.07830955,\n",
       "         -0.08066146, -0.08984094, -0.10474882, -0.13088912, -0.16706349,\n",
       "         -0.19609513, -0.21161693, -0.22124363, -0.24495046, -0.25330866,\n",
       "         -0.26420163, -0.26966708, -0.28399466, -0.28957418, -0.29957739,\n",
       "         -0.30519419, -0.31520972, -0.31795864, -0.33127396, -0.3346445 ],\n",
       "        [-0.29154764, -0.28796329, -0.27756689, -0.25329351, -0.21480405,\n",
       "         -0.17488929, -0.14521221, -0.12765277, -0.11771613, -0.11101841,\n",
       "         -0.10894333, -0.11444573, -0.13372875, -0.17413142, -0.24115693,\n",
       "         -0.27476442, -0.29371547, -0.31889759, -0.32720252, -0.34442115,\n",
       "         -0.36539028, -0.37677201, -0.38536484, -0.40156992, -0.40805371,\n",
       "         -0.42452843, -0.42756932, -0.43769662, -0.44312075, -0.4541103 ],\n",
       "        [-0.29136517, -0.28736204, -0.27559402, -0.24722004, -0.20110974,\n",
       "         -0.15629544, -0.1268139 , -0.11200547, -0.10693248, -0.10740819,\n",
       "         -0.11264052, -0.1253788 , -0.15234022, -0.20140516, -0.27531387,\n",
       "         -0.3873337 , -0.41272732, -0.52015106, -0.53392071, -0.63844744,\n",
       "         -0.65055641, -0.70543481, -0.72137409, -0.74331357, -0.76862532,\n",
       "         -0.79290142, -0.80810626, -0.82601104, -0.84068604, -0.85076257],\n",
       "        [-0.29122254, -0.28690787, -0.27424632, -0.24390824, -0.19526695,\n",
       "         -0.14762373, -0.1133069 , -0.09238341, -0.08186664, -0.07975841,\n",
       "         -0.0841705 , -0.09482189, -0.11305964, -0.13951497, -0.19265209,\n",
       "         -0.20748631, -0.24208766, -0.23854903, -0.27022704, -0.26849552,\n",
       "         -0.28598704, -0.28902236, -0.29464695, -0.30131607, -0.30684827,\n",
       "         -0.33310048, -0.33415787, -0.34914698, -0.34943205, -0.36283183]])}"
      ]
     },
     "execution_count": 28,
     "metadata": {},
     "output_type": "execute_result"
    }
   ],
   "source": [
    "clf.scores_"
   ]
  }
 ],
 "metadata": {
  "kernelspec": {
   "display_name": "cits5508",
   "language": "python",
   "name": "python3"
  },
  "language_info": {
   "codemirror_mode": {
    "name": "ipython",
    "version": 3
   },
   "file_extension": ".py",
   "mimetype": "text/x-python",
   "name": "python",
   "nbconvert_exporter": "python",
   "pygments_lexer": "ipython3",
   "version": "3.12.2"
  }
 },
 "nbformat": 4,
 "nbformat_minor": 2
}
